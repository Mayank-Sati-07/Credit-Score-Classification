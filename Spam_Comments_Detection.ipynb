{
  "nbformat": 4,
  "nbformat_minor": 0,
  "metadata": {
    "colab": {
      "provenance": [],
      "authorship_tag": "ABX9TyO34g/iaQXZSbQYvEhAwcUz",
      "include_colab_link": true
    },
    "kernelspec": {
      "name": "python3",
      "display_name": "Python 3"
    },
    "language_info": {
      "name": "python"
    }
  },
  "cells": [
    {
      "cell_type": "markdown",
      "metadata": {
        "id": "view-in-github",
        "colab_type": "text"
      },
      "source": [
        "<a href=\"https://colab.research.google.com/github/Mayank-Sati-07/Credit-Score-Classification/blob/main/Spam_Comments_Detection.ipynb\" target=\"_parent\"><img src=\"https://colab.research.google.com/assets/colab-badge.svg\" alt=\"Open In Colab\"/></a>"
      ]
    },
    {
      "cell_type": "code",
      "execution_count": 2,
      "metadata": {
        "colab": {
          "base_uri": "https://localhost:8080/"
        },
        "id": "qIGDCHW35ySU",
        "outputId": "8b8a3848-5cf6-4789-ab41-95ba7c62c327"
      },
      "outputs": [
        {
          "output_type": "stream",
          "name": "stdout",
          "text": [
            "                                COMMENT_ID             AUTHOR  \\\n",
            "127    z123gnabnwbqtr1e022jejij0zzzez2os04      Luat ha hpuoc   \n",
            "72       z124fn5ahqnfdbxtg23ihlijyqjqtr1lk           Oh 1080s   \n",
            "333      z131idupvn3yhf3mv23dwzhi4pqixvwuw  Александр Федоров   \n",
            "91   z13tdv5jmlfpzj1rf04cd3ng4ljqjngxflg0k   Михаил Панкратов   \n",
            "141  z12udxjwpwurtlwz304ccbrhdtusth4herk0k            PacKmaN   \n",
            "\n",
            "                    DATE                                            CONTENT  \\\n",
            "127  2014-11-05T15:38:10  so crazy, over 2 billion views, not US, not Uk...   \n",
            "72   2014-11-02T01:08:10                                   Sub my channel!﻿   \n",
            "333  2014-11-13T07:59:33  Look at the pictures, if not difficult http://...   \n",
            "91   2014-11-03T22:22:14  There is one video on my channel about my brot...   \n",
            "141  2014-11-05T21:56:39  check men out i put allot of effort into my mu...   \n",
            "\n",
            "     CLASS  \n",
            "127      0  \n",
            "72       1  \n",
            "333      1  \n",
            "91       1  \n",
            "141      1  \n",
            "                                               CONTENT  CLASS\n",
            "65           969,210 dislikes like dislike themselves﻿      0\n",
            "96   I made a gaming channel (Unique right?) :L Ang...      1\n",
            "225  You think you're smart?        Headbutt your f...      0\n",
            "213                The most liked video on YouTube...﻿      0\n",
            "158  😫😓😏😪😔😖😌😭😎😚😘😙😗😋😝😜😛😍😒😞😷😶😵😳😲😱😟😰😩😨😧😦😥😤😣😮😴😢😡😠😬😕😑😐😯😉...      0\n",
            "                                               CONTENT         CLASS\n",
            "189  http://www.ermail.pl/dolacz/V3VeYGIN CLICK  ht...  Spam Comment\n",
            "158  😫😓😏😪😔😖😌😭😎😚😘😙😗😋😝😜😛😍😒😞😷😶😵😳😲😱😟😰😩😨😧😦😥😤😣😮😴😢😡😠😬😕😑😐😯😉...      Not Spam\n",
            "67   OMG this oldspice spraytan party commercial om...      Not Spam\n",
            "197                            this has so many views﻿      Not Spam\n",
            "201                      i am 2,126,492,636 viewer :D﻿      Not Spam\n",
            "0.9857142857142858\n",
            "['Spam Comment']\n",
            "['Not Spam']\n"
          ]
        }
      ],
      "source": [
        "import pandas as pd\n",
        "import numpy as np\n",
        "from sklearn.feature_extraction.text import CountVectorizer\n",
        "from sklearn.model_selection import train_test_split\n",
        "from sklearn.naive_bayes import BernoulliNB\n",
        "\n",
        "data = pd.read_csv(\"Youtube01-Psy.csv\")\n",
        "print(data.sample(5))\n",
        "\n",
        "data = data[[\"CONTENT\", \"CLASS\"]]\n",
        "print(data.sample(5))\n",
        "\n",
        "data[\"CLASS\"] = data[\"CLASS\"].map({0: \"Not Spam\",\n",
        "                                   1: \"Spam Comment\"})\n",
        "print(data.sample(5))\n",
        "\n",
        "x = np.array(data[\"CONTENT\"])\n",
        "y = np.array(data[\"CLASS\"])\n",
        "\n",
        "cv = CountVectorizer()\n",
        "x = cv.fit_transform(x)\n",
        "xtrain, xtest, ytrain, ytest = train_test_split(x, y,\n",
        "                                                test_size=0.2,\n",
        "                                                random_state=42)\n",
        "\n",
        "model = BernoulliNB()\n",
        "model.fit(xtrain, ytrain)\n",
        "print(model.score(xtest, ytest))\n",
        "\n",
        "sample = \"Check this out: https://thecleverprogrammer.com/\"\n",
        "data = cv.transform([sample]).toarray()\n",
        "print(model.predict(data))\n",
        "\n",
        "sample = \"Lack of information!\"\n",
        "data = cv.transform([sample]).toarray()\n",
        "print(model.predict(data))\n",
        "\n"
      ]
    }
  ]
}