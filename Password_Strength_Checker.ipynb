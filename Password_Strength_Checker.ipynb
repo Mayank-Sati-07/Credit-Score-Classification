{
  "nbformat": 4,
  "nbformat_minor": 0,
  "metadata": {
    "colab": {
      "provenance": [],
      "authorship_tag": "ABX9TyPCsbFbOprTr8k3fO4ldz4Q",
      "include_colab_link": true
    },
    "kernelspec": {
      "name": "python3",
      "display_name": "Python 3"
    },
    "language_info": {
      "name": "python"
    }
  },
  "cells": [
    {
      "cell_type": "markdown",
      "metadata": {
        "id": "view-in-github",
        "colab_type": "text"
      },
      "source": [
        "<a href=\"https://colab.research.google.com/github/Mayank-Sati-07/My-Projects/blob/main/Password_Strength_Checker.ipynb\" target=\"_parent\"><img src=\"https://colab.research.google.com/assets/colab-badge.svg\" alt=\"Open In Colab\"/></a>"
      ]
    },
    {
      "cell_type": "code",
      "source": [
        "import pandas as pd\n",
        "import numpy as np\n",
        "from sklearn.feature_extraction.text import TfidfVectorizer\n",
        "from sklearn.model_selection import train_test_split\n",
        "from sklearn.ensemble import RandomForestClassifier\n",
        "import getpass\n",
        "\n",
        "data = pd.read_csv(\"data.csv\", on_bad_lines=\"skip\")\n",
        "\n",
        "data.dropna(inplace=True)\n",
        "\n",
        "data[\"strength\"] = data[\"strength\"].map({0: \"Weak\", 1: \"Medium\", 2: \"Strong\"})\n",
        "\n",
        "def word(password):\n",
        "    return list(password)\n",
        "\n",
        "x = np.array(data[\"password\"])\n",
        "y = np.array(data[\"strength\"])\n",
        "\n",
        "tdif = TfidfVectorizer(tokenizer=lambda x: list(x))\n",
        "x = tdif.fit_transform(x)\n",
        "\n",
        "\n",
        "xtrain, xtest, ytrain, ytest = train_test_split(x, y, test_size=0.05, random_state=42)\n",
        "\n",
        "model = RandomForestClassifier()\n",
        "model.fit(xtrain, ytrain)\n",
        "\n",
        "print(f\"Model Accuracy: {model.score(xtest, ytest):.2f}\")\n",
        "\n",
        "\n",
        "user_password = getpass.getpass(\"Enter Password: \")\n",
        "user_data = tdif.transform([user_password])\n",
        "output = model.predict(user_data)\n",
        "print(f\"Predicted Password Strength: {output[0]}\")\n",
        "\n"
      ],
      "metadata": {
        "colab": {
          "base_uri": "https://localhost:8080/"
        },
        "id": "ebAj2G5-nnpC",
        "outputId": "c61fe684-8bfe-430c-8e05-00df6278b100"
      },
      "execution_count": 6,
      "outputs": [
        {
          "output_type": "stream",
          "name": "stderr",
          "text": [
            "/usr/local/lib/python3.11/dist-packages/sklearn/feature_extraction/text.py:517: UserWarning: The parameter 'token_pattern' will not be used since 'tokenizer' is not None'\n",
            "  warnings.warn(\n"
          ]
        },
        {
          "output_type": "stream",
          "name": "stdout",
          "text": [
            "Model Accuracy: 0.96\n",
            "Enter Password: ··········\n",
            "Predicted Password Strength: Weak\n"
          ]
        }
      ]
    }
  ]
}